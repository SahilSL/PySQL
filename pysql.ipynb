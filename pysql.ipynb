{
 "cells": [
  {
   "cell_type": "code",
   "execution_count": 74,
   "id": "cf5854ab-3050-459e-b05e-db67c554ed9b",
   "metadata": {},
   "outputs": [],
   "source": [
    "#Importing Libaries ---->\n",
    "import mysql.connector\n",
    "from mysql.connector import Error\n",
    "import pandas as pd"
   ]
  },
  {
   "cell_type": "code",
   "execution_count": 75,
   "id": "7f180e6e-e4e9-4ccd-babf-93ae28c791b9",
   "metadata": {},
   "outputs": [
    {
     "name": "stdout",
     "output_type": "stream",
     "text": [
      "MySQL Database Connection Established Successfully\n"
     ]
    }
   ],
   "source": [
    "#Establishing Connections --->\n",
    "def create_server_connection(host_name, user_name, user_password):\n",
    "    connection: None\n",
    "    try:\n",
    "        connection = mysql.connector.connect(\n",
    "            host= host_name,\n",
    "            user= user_name,\n",
    "            passwd= user_password\n",
    "        )\n",
    "        print(\"MySQL Database Connection Established Successfully\")\n",
    "    except Error as err:\n",
    "        print(f\"Error: '(err)'\")\n",
    "    return connection\n",
    "\n",
    "#Password ---->\n",
    "pw= \"SahilSL@1234\"\n",
    "#Database name ---->\n",
    "db = \"mysql_python\"\n",
    "connection = create_server_connection(\"localhost\", \"root\", pw)"
   ]
  },
  {
   "cell_type": "code",
   "execution_count": 76,
   "id": "6d04fc4d-177b-4f46-b927-0a4d84291c76",
   "metadata": {},
   "outputs": [
    {
     "name": "stdout",
     "output_type": "stream",
     "text": [
      "Database Created Successfully\n"
     ]
    }
   ],
   "source": [
    "# Create mysql_python Database ---->\n",
    "def create_database(connection, query):\n",
    "    cursor = connection.cursor()\n",
    "    try:\n",
    "        cursor.execute(query)\n",
    "        print(\"Database Created Successfully\")\n",
    "    except Error as err:\n",
    "        print(f\"Error: '{err}'\")\n",
    "\n",
    "create_database_query = \"Create database mysql_python\"\n",
    "create_database(connection, create_database_query)"
   ]
  },
  {
   "cell_type": "code",
   "execution_count": 77,
   "id": "b05af8eb-b86a-420a-956a-afdbd835d1ff",
   "metadata": {},
   "outputs": [],
   "source": [
    "#Connect to database ---->\n",
    "def create_db_connection(host_name, user_name, user_password, db_name):\n",
    "    connection: None\n",
    "    try:\n",
    "        connection = mysql.connector.connect(\n",
    "            host= host_name,\n",
    "            user= user_name,\n",
    "            passwd= user_password,\n",
    "            database= db_name)\n",
    "        print(\"MySQL database Connection Succcessfully\")\n",
    "    except Error as err:\n",
    "        print(f\"Error: '{err}'\")\n",
    "    return connection"
   ]
  },
  {
   "cell_type": "code",
   "execution_count": 78,
   "id": "389b53d7-ee4d-4fd8-a09e-29d93be614ba",
   "metadata": {},
   "outputs": [],
   "source": [
    "#Execute SQL Queries ---->\n",
    "def execute_query(connection, query):\n",
    "    cursor = connection.cursor()\n",
    "    try:\n",
    "        cursor.execute(query)\n",
    "        connection.commit()\n",
    "        print(\"Query executed successfully\")\n",
    "    except Error as err:\n",
    "        print(f\"Error: '{err}'\")"
   ]
  },
  {
   "cell_type": "code",
   "execution_count": 79,
   "id": "fbb16716-9c82-4031-a023-39d2f5372baf",
   "metadata": {},
   "outputs": [
    {
     "name": "stdout",
     "output_type": "stream",
     "text": [
      "MySQL database Connection Succcessfully\n",
      "Query executed successfully\n"
     ]
    }
   ],
   "source": [
    "create_orders_table = '''\n",
    "CREATE TABLE orders( order_id INT PRIMARY KEY, customer_name VARCHAR(30), product_name VARCHAR(20) NOT NULL, date_ordered DATE, quantity INT, unit_price FLOAT, phone_number VARCHAR(20));\n",
    "'''\n",
    "\n",
    "#connect to the database\n",
    "connection = create_db_connection(\"localhost\", \"root\", pw, db)\n",
    "execute_query(connection, create_orders_table)"
   ]
  },
  {
   "cell_type": "code",
   "execution_count": 80,
   "id": "2fda28f6-01d5-444c-b542-780a39c78a5e",
   "metadata": {},
   "outputs": [
    {
     "name": "stdout",
     "output_type": "stream",
     "text": [
      "MySQL database Connection Succcessfully\n",
      "Query executed successfully\n"
     ]
    }
   ],
   "source": [
    "#inserting data ---->\n",
    "data_orders = \"\"\"\n",
    "insert into orders values\n",
    "(101, 'Sahil', 'Laptop', '2002-12-02', 2, 800, '8087977227'),\n",
    "(102, 'Jayesh', 'Book', '2019-02-10', 10, 12, '8369489124'),\n",
    "(103, 'Soham', 'Tab', '2019-12-25', 5, 50, '8976123465'),\n",
    "(104, 'Ninadh', 'Phone', '2018-07-14', 7, 30, '7368145099'),\n",
    "(105, 'Mansi', 'TV', '2019-05-30', 6, 48, '8865316698'),\n",
    "(106, 'Disha', 'Headphone', '2018-08-20', 10, 300, '7720130449');\n",
    "\"\"\"\n",
    "\n",
    "connection = create_db_connection(\"localhost\", \"root\", pw, db)\n",
    "execute_query(connection, data_orders)"
   ]
  },
  {
   "cell_type": "code",
   "execution_count": 81,
   "id": "623744d6-d935-4fe9-ad73-06770a3ef76a",
   "metadata": {},
   "outputs": [],
   "source": [
    "def read_query(connection, query):\n",
    "    cursor = connection.cursor()\n",
    "    result = None\n",
    "    try:\n",
    "        cursor.execute(query)\n",
    "        result = cursor.fetchall()\n",
    "        return result\n",
    "    except Error as err:\n",
    "        print(f\"Error: '{err}'\")"
   ]
  },
  {
   "cell_type": "code",
   "execution_count": 82,
   "id": "fa4602cf-a10f-4128-8055-4cb37126d4c8",
   "metadata": {},
   "outputs": [
    {
     "name": "stdout",
     "output_type": "stream",
     "text": [
      "MySQL database Connection Succcessfully\n",
      "[(101, 'Sahil', 'Laptop', datetime.date(2002, 12, 2), 2, 800.0, '8087977227'), (106, 'Disha', 'Headphone', datetime.date(2018, 8, 20), 10, 300.0, '7720130449'), (103, 'Soham', 'Tab', datetime.date(2019, 12, 25), 5, 50.0, '8976123465'), (105, 'Mansi', 'TV', datetime.date(2019, 5, 30), 6, 48.0, '8865316698'), (104, 'Ninadh', 'Phone', datetime.date(2018, 7, 14), 7, 30.0, '7368145099'), (102, 'Jayesh', 'Book', datetime.date(2019, 2, 10), 10, 12.0, '8369489124')]\n",
      "[(101, 'Sahil', 'Laptop', datetime.date(2002, 12, 2), 2, 800.0, '8087977227'), (106, 'Disha', 'Headphone', datetime.date(2018, 8, 20), 10, 300.0, '7720130449'), (103, 'Soham', 'Tab', datetime.date(2019, 12, 25), 5, 50.0, '8976123465'), (105, 'Mansi', 'TV', datetime.date(2019, 5, 30), 6, 48.0, '8865316698'), (104, 'Ninadh', 'Phone', datetime.date(2018, 7, 14), 7, 30.0, '7368145099'), (102, 'Jayesh', 'Book', datetime.date(2019, 2, 10), 10, 12.0, '8369489124')]\n",
      "[(101, 'Sahil', 'Laptop', datetime.date(2002, 12, 2), 2, 800.0, '8087977227'), (106, 'Disha', 'Headphone', datetime.date(2018, 8, 20), 10, 300.0, '7720130449'), (103, 'Soham', 'Tab', datetime.date(2019, 12, 25), 5, 50.0, '8976123465'), (105, 'Mansi', 'TV', datetime.date(2019, 5, 30), 6, 48.0, '8865316698'), (104, 'Ninadh', 'Phone', datetime.date(2018, 7, 14), 7, 30.0, '7368145099'), (102, 'Jayesh', 'Book', datetime.date(2019, 2, 10), 10, 12.0, '8369489124')]\n",
      "[(101, 'Sahil', 'Laptop', datetime.date(2002, 12, 2), 2, 800.0, '8087977227'), (106, 'Disha', 'Headphone', datetime.date(2018, 8, 20), 10, 300.0, '7720130449'), (103, 'Soham', 'Tab', datetime.date(2019, 12, 25), 5, 50.0, '8976123465'), (105, 'Mansi', 'TV', datetime.date(2019, 5, 30), 6, 48.0, '8865316698'), (104, 'Ninadh', 'Phone', datetime.date(2018, 7, 14), 7, 30.0, '7368145099'), (102, 'Jayesh', 'Book', datetime.date(2019, 2, 10), 10, 12.0, '8369489124')]\n",
      "[(101, 'Sahil', 'Laptop', datetime.date(2002, 12, 2), 2, 800.0, '8087977227'), (106, 'Disha', 'Headphone', datetime.date(2018, 8, 20), 10, 300.0, '7720130449'), (103, 'Soham', 'Tab', datetime.date(2019, 12, 25), 5, 50.0, '8976123465'), (105, 'Mansi', 'TV', datetime.date(2019, 5, 30), 6, 48.0, '8865316698'), (104, 'Ninadh', 'Phone', datetime.date(2018, 7, 14), 7, 30.0, '7368145099'), (102, 'Jayesh', 'Book', datetime.date(2019, 2, 10), 10, 12.0, '8369489124')]\n",
      "[(101, 'Sahil', 'Laptop', datetime.date(2002, 12, 2), 2, 800.0, '8087977227'), (106, 'Disha', 'Headphone', datetime.date(2018, 8, 20), 10, 300.0, '7720130449'), (103, 'Soham', 'Tab', datetime.date(2019, 12, 25), 5, 50.0, '8976123465'), (105, 'Mansi', 'TV', datetime.date(2019, 5, 30), 6, 48.0, '8865316698'), (104, 'Ninadh', 'Phone', datetime.date(2018, 7, 14), 7, 30.0, '7368145099'), (102, 'Jayesh', 'Book', datetime.date(2019, 2, 10), 10, 12.0, '8369489124')]\n",
      "[(101, 'Sahil', 'Laptop', datetime.date(2002, 12, 2), 2, 800.0, '8087977227'), (106, 'Disha', 'Headphone', datetime.date(2018, 8, 20), 10, 300.0, '7720130449'), (103, 'Soham', 'Tab', datetime.date(2019, 12, 25), 5, 50.0, '8976123465'), (105, 'Mansi', 'TV', datetime.date(2019, 5, 30), 6, 48.0, '8865316698'), (104, 'Ninadh', 'Phone', datetime.date(2018, 7, 14), 7, 30.0, '7368145099'), (102, 'Jayesh', 'Book', datetime.date(2019, 2, 10), 10, 12.0, '8369489124')]\n"
     ]
    }
   ],
   "source": [
    "#select query---->\n",
    "q1 = \"\"\"\n",
    "select * from orders;\n",
    "\"\"\"\n",
    "connection = create_db_connection(\"localhost\", \"root\", pw, db)\n",
    "result = read_query(connection, q1)\n",
    "for result in results:\n",
    "    print(values)"
   ]
  },
  {
   "cell_type": "code",
   "execution_count": 83,
   "id": "5b224f59-fd80-425b-87bf-abee3af4d1f9",
   "metadata": {},
   "outputs": [
    {
     "name": "stdout",
     "output_type": "stream",
     "text": [
      "MySQL database Connection Succcessfully\n",
      "[(101, 'Sahil', 'Laptop', datetime.date(2002, 12, 2), 2, 800.0, '8087977227'), (106, 'Disha', 'Headphone', datetime.date(2018, 8, 20), 10, 300.0, '7720130449'), (103, 'Soham', 'Tab', datetime.date(2019, 12, 25), 5, 50.0, '8976123465'), (105, 'Mansi', 'TV', datetime.date(2019, 5, 30), 6, 48.0, '8865316698'), (104, 'Ninadh', 'Phone', datetime.date(2018, 7, 14), 7, 30.0, '7368145099'), (102, 'Jayesh', 'Book', datetime.date(2019, 2, 10), 10, 12.0, '8369489124')]\n",
      "[(101, 'Sahil', 'Laptop', datetime.date(2002, 12, 2), 2, 800.0, '8087977227'), (106, 'Disha', 'Headphone', datetime.date(2018, 8, 20), 10, 300.0, '7720130449'), (103, 'Soham', 'Tab', datetime.date(2019, 12, 25), 5, 50.0, '8976123465'), (105, 'Mansi', 'TV', datetime.date(2019, 5, 30), 6, 48.0, '8865316698'), (104, 'Ninadh', 'Phone', datetime.date(2018, 7, 14), 7, 30.0, '7368145099'), (102, 'Jayesh', 'Book', datetime.date(2019, 2, 10), 10, 12.0, '8369489124')]\n",
      "[(101, 'Sahil', 'Laptop', datetime.date(2002, 12, 2), 2, 800.0, '8087977227'), (106, 'Disha', 'Headphone', datetime.date(2018, 8, 20), 10, 300.0, '7720130449'), (103, 'Soham', 'Tab', datetime.date(2019, 12, 25), 5, 50.0, '8976123465'), (105, 'Mansi', 'TV', datetime.date(2019, 5, 30), 6, 48.0, '8865316698'), (104, 'Ninadh', 'Phone', datetime.date(2018, 7, 14), 7, 30.0, '7368145099'), (102, 'Jayesh', 'Book', datetime.date(2019, 2, 10), 10, 12.0, '8369489124')]\n",
      "[(101, 'Sahil', 'Laptop', datetime.date(2002, 12, 2), 2, 800.0, '8087977227'), (106, 'Disha', 'Headphone', datetime.date(2018, 8, 20), 10, 300.0, '7720130449'), (103, 'Soham', 'Tab', datetime.date(2019, 12, 25), 5, 50.0, '8976123465'), (105, 'Mansi', 'TV', datetime.date(2019, 5, 30), 6, 48.0, '8865316698'), (104, 'Ninadh', 'Phone', datetime.date(2018, 7, 14), 7, 30.0, '7368145099'), (102, 'Jayesh', 'Book', datetime.date(2019, 2, 10), 10, 12.0, '8369489124')]\n",
      "[(101, 'Sahil', 'Laptop', datetime.date(2002, 12, 2), 2, 800.0, '8087977227'), (106, 'Disha', 'Headphone', datetime.date(2018, 8, 20), 10, 300.0, '7720130449'), (103, 'Soham', 'Tab', datetime.date(2019, 12, 25), 5, 50.0, '8976123465'), (105, 'Mansi', 'TV', datetime.date(2019, 5, 30), 6, 48.0, '8865316698'), (104, 'Ninadh', 'Phone', datetime.date(2018, 7, 14), 7, 30.0, '7368145099'), (102, 'Jayesh', 'Book', datetime.date(2019, 2, 10), 10, 12.0, '8369489124')]\n",
      "[(101, 'Sahil', 'Laptop', datetime.date(2002, 12, 2), 2, 800.0, '8087977227'), (106, 'Disha', 'Headphone', datetime.date(2018, 8, 20), 10, 300.0, '7720130449'), (103, 'Soham', 'Tab', datetime.date(2019, 12, 25), 5, 50.0, '8976123465'), (105, 'Mansi', 'TV', datetime.date(2019, 5, 30), 6, 48.0, '8865316698'), (104, 'Ninadh', 'Phone', datetime.date(2018, 7, 14), 7, 30.0, '7368145099'), (102, 'Jayesh', 'Book', datetime.date(2019, 2, 10), 10, 12.0, '8369489124')]\n",
      "[(101, 'Sahil', 'Laptop', datetime.date(2002, 12, 2), 2, 800.0, '8087977227'), (106, 'Disha', 'Headphone', datetime.date(2018, 8, 20), 10, 300.0, '7720130449'), (103, 'Soham', 'Tab', datetime.date(2019, 12, 25), 5, 50.0, '8976123465'), (105, 'Mansi', 'TV', datetime.date(2019, 5, 30), 6, 48.0, '8865316698'), (104, 'Ninadh', 'Phone', datetime.date(2018, 7, 14), 7, 30.0, '7368145099'), (102, 'Jayesh', 'Book', datetime.date(2019, 2, 10), 10, 12.0, '8369489124')]\n"
     ]
    }
   ],
   "source": [
    "#select query---->\n",
    "q2 = \"\"\"\n",
    "select customer_name, phone_number from orders;\n",
    "\"\"\"\n",
    "connection = create_db_connection(\"localhost\", \"root\", pw, db)\n",
    "result = read_query(connection, q2)\n",
    "for result in results:\n",
    "    print(values)"
   ]
  },
  {
   "cell_type": "code",
   "execution_count": 84,
   "id": "8422f75f-cec6-43e2-b6ee-1b34f5950eda",
   "metadata": {},
   "outputs": [
    {
     "name": "stdout",
     "output_type": "stream",
     "text": [
      "MySQL database Connection Succcessfully\n",
      "[(101, 'Sahil', 'Laptop', datetime.date(2002, 12, 2), 2, 800.0, '8087977227'), (106, 'Disha', 'Headphone', datetime.date(2018, 8, 20), 10, 300.0, '7720130449'), (103, 'Soham', 'Tab', datetime.date(2019, 12, 25), 5, 50.0, '8976123465'), (105, 'Mansi', 'TV', datetime.date(2019, 5, 30), 6, 48.0, '8865316698'), (104, 'Ninadh', 'Phone', datetime.date(2018, 7, 14), 7, 30.0, '7368145099'), (102, 'Jayesh', 'Book', datetime.date(2019, 2, 10), 10, 12.0, '8369489124')]\n",
      "[(101, 'Sahil', 'Laptop', datetime.date(2002, 12, 2), 2, 800.0, '8087977227'), (106, 'Disha', 'Headphone', datetime.date(2018, 8, 20), 10, 300.0, '7720130449'), (103, 'Soham', 'Tab', datetime.date(2019, 12, 25), 5, 50.0, '8976123465'), (105, 'Mansi', 'TV', datetime.date(2019, 5, 30), 6, 48.0, '8865316698'), (104, 'Ninadh', 'Phone', datetime.date(2018, 7, 14), 7, 30.0, '7368145099'), (102, 'Jayesh', 'Book', datetime.date(2019, 2, 10), 10, 12.0, '8369489124')]\n",
      "[(101, 'Sahil', 'Laptop', datetime.date(2002, 12, 2), 2, 800.0, '8087977227'), (106, 'Disha', 'Headphone', datetime.date(2018, 8, 20), 10, 300.0, '7720130449'), (103, 'Soham', 'Tab', datetime.date(2019, 12, 25), 5, 50.0, '8976123465'), (105, 'Mansi', 'TV', datetime.date(2019, 5, 30), 6, 48.0, '8865316698'), (104, 'Ninadh', 'Phone', datetime.date(2018, 7, 14), 7, 30.0, '7368145099'), (102, 'Jayesh', 'Book', datetime.date(2019, 2, 10), 10, 12.0, '8369489124')]\n",
      "[(101, 'Sahil', 'Laptop', datetime.date(2002, 12, 2), 2, 800.0, '8087977227'), (106, 'Disha', 'Headphone', datetime.date(2018, 8, 20), 10, 300.0, '7720130449'), (103, 'Soham', 'Tab', datetime.date(2019, 12, 25), 5, 50.0, '8976123465'), (105, 'Mansi', 'TV', datetime.date(2019, 5, 30), 6, 48.0, '8865316698'), (104, 'Ninadh', 'Phone', datetime.date(2018, 7, 14), 7, 30.0, '7368145099'), (102, 'Jayesh', 'Book', datetime.date(2019, 2, 10), 10, 12.0, '8369489124')]\n",
      "[(101, 'Sahil', 'Laptop', datetime.date(2002, 12, 2), 2, 800.0, '8087977227'), (106, 'Disha', 'Headphone', datetime.date(2018, 8, 20), 10, 300.0, '7720130449'), (103, 'Soham', 'Tab', datetime.date(2019, 12, 25), 5, 50.0, '8976123465'), (105, 'Mansi', 'TV', datetime.date(2019, 5, 30), 6, 48.0, '8865316698'), (104, 'Ninadh', 'Phone', datetime.date(2018, 7, 14), 7, 30.0, '7368145099'), (102, 'Jayesh', 'Book', datetime.date(2019, 2, 10), 10, 12.0, '8369489124')]\n",
      "[(101, 'Sahil', 'Laptop', datetime.date(2002, 12, 2), 2, 800.0, '8087977227'), (106, 'Disha', 'Headphone', datetime.date(2018, 8, 20), 10, 300.0, '7720130449'), (103, 'Soham', 'Tab', datetime.date(2019, 12, 25), 5, 50.0, '8976123465'), (105, 'Mansi', 'TV', datetime.date(2019, 5, 30), 6, 48.0, '8865316698'), (104, 'Ninadh', 'Phone', datetime.date(2018, 7, 14), 7, 30.0, '7368145099'), (102, 'Jayesh', 'Book', datetime.date(2019, 2, 10), 10, 12.0, '8369489124')]\n",
      "[(101, 'Sahil', 'Laptop', datetime.date(2002, 12, 2), 2, 800.0, '8087977227'), (106, 'Disha', 'Headphone', datetime.date(2018, 8, 20), 10, 300.0, '7720130449'), (103, 'Soham', 'Tab', datetime.date(2019, 12, 25), 5, 50.0, '8976123465'), (105, 'Mansi', 'TV', datetime.date(2019, 5, 30), 6, 48.0, '8865316698'), (104, 'Ninadh', 'Phone', datetime.date(2018, 7, 14), 7, 30.0, '7368145099'), (102, 'Jayesh', 'Book', datetime.date(2019, 2, 10), 10, 12.0, '8369489124')]\n"
     ]
    }
   ],
   "source": [
    "#select query---->\n",
    "q3 = \"\"\"\n",
    "select year(date_ordered) from orders;\n",
    "\"\"\"\n",
    "connection = create_db_connection(\"localhost\", \"root\", pw, db)\n",
    "result = read_query(connection, q3)\n",
    "for result in results:\n",
    "    print(values)"
   ]
  },
  {
   "cell_type": "code",
   "execution_count": 85,
   "id": "a692c157-29b5-4a48-9066-41a2f53c03b5",
   "metadata": {},
   "outputs": [
    {
     "name": "stdout",
     "output_type": "stream",
     "text": [
      "MySQL database Connection Succcessfully\n",
      "[(101, 'Sahil', 'Laptop', datetime.date(2002, 12, 2), 2, 800.0, '8087977227'), (106, 'Disha', 'Headphone', datetime.date(2018, 8, 20), 10, 300.0, '7720130449'), (103, 'Soham', 'Tab', datetime.date(2019, 12, 25), 5, 50.0, '8976123465'), (105, 'Mansi', 'TV', datetime.date(2019, 5, 30), 6, 48.0, '8865316698'), (104, 'Ninadh', 'Phone', datetime.date(2018, 7, 14), 7, 30.0, '7368145099'), (102, 'Jayesh', 'Book', datetime.date(2019, 2, 10), 10, 12.0, '8369489124')]\n",
      "[(101, 'Sahil', 'Laptop', datetime.date(2002, 12, 2), 2, 800.0, '8087977227'), (106, 'Disha', 'Headphone', datetime.date(2018, 8, 20), 10, 300.0, '7720130449'), (103, 'Soham', 'Tab', datetime.date(2019, 12, 25), 5, 50.0, '8976123465'), (105, 'Mansi', 'TV', datetime.date(2019, 5, 30), 6, 48.0, '8865316698'), (104, 'Ninadh', 'Phone', datetime.date(2018, 7, 14), 7, 30.0, '7368145099'), (102, 'Jayesh', 'Book', datetime.date(2019, 2, 10), 10, 12.0, '8369489124')]\n",
      "[(101, 'Sahil', 'Laptop', datetime.date(2002, 12, 2), 2, 800.0, '8087977227'), (106, 'Disha', 'Headphone', datetime.date(2018, 8, 20), 10, 300.0, '7720130449'), (103, 'Soham', 'Tab', datetime.date(2019, 12, 25), 5, 50.0, '8976123465'), (105, 'Mansi', 'TV', datetime.date(2019, 5, 30), 6, 48.0, '8865316698'), (104, 'Ninadh', 'Phone', datetime.date(2018, 7, 14), 7, 30.0, '7368145099'), (102, 'Jayesh', 'Book', datetime.date(2019, 2, 10), 10, 12.0, '8369489124')]\n",
      "[(101, 'Sahil', 'Laptop', datetime.date(2002, 12, 2), 2, 800.0, '8087977227'), (106, 'Disha', 'Headphone', datetime.date(2018, 8, 20), 10, 300.0, '7720130449'), (103, 'Soham', 'Tab', datetime.date(2019, 12, 25), 5, 50.0, '8976123465'), (105, 'Mansi', 'TV', datetime.date(2019, 5, 30), 6, 48.0, '8865316698'), (104, 'Ninadh', 'Phone', datetime.date(2018, 7, 14), 7, 30.0, '7368145099'), (102, 'Jayesh', 'Book', datetime.date(2019, 2, 10), 10, 12.0, '8369489124')]\n",
      "[(101, 'Sahil', 'Laptop', datetime.date(2002, 12, 2), 2, 800.0, '8087977227'), (106, 'Disha', 'Headphone', datetime.date(2018, 8, 20), 10, 300.0, '7720130449'), (103, 'Soham', 'Tab', datetime.date(2019, 12, 25), 5, 50.0, '8976123465'), (105, 'Mansi', 'TV', datetime.date(2019, 5, 30), 6, 48.0, '8865316698'), (104, 'Ninadh', 'Phone', datetime.date(2018, 7, 14), 7, 30.0, '7368145099'), (102, 'Jayesh', 'Book', datetime.date(2019, 2, 10), 10, 12.0, '8369489124')]\n",
      "[(101, 'Sahil', 'Laptop', datetime.date(2002, 12, 2), 2, 800.0, '8087977227'), (106, 'Disha', 'Headphone', datetime.date(2018, 8, 20), 10, 300.0, '7720130449'), (103, 'Soham', 'Tab', datetime.date(2019, 12, 25), 5, 50.0, '8976123465'), (105, 'Mansi', 'TV', datetime.date(2019, 5, 30), 6, 48.0, '8865316698'), (104, 'Ninadh', 'Phone', datetime.date(2018, 7, 14), 7, 30.0, '7368145099'), (102, 'Jayesh', 'Book', datetime.date(2019, 2, 10), 10, 12.0, '8369489124')]\n",
      "[(101, 'Sahil', 'Laptop', datetime.date(2002, 12, 2), 2, 800.0, '8087977227'), (106, 'Disha', 'Headphone', datetime.date(2018, 8, 20), 10, 300.0, '7720130449'), (103, 'Soham', 'Tab', datetime.date(2019, 12, 25), 5, 50.0, '8976123465'), (105, 'Mansi', 'TV', datetime.date(2019, 5, 30), 6, 48.0, '8865316698'), (104, 'Ninadh', 'Phone', datetime.date(2018, 7, 14), 7, 30.0, '7368145099'), (102, 'Jayesh', 'Book', datetime.date(2019, 2, 10), 10, 12.0, '8369489124')]\n"
     ]
    }
   ],
   "source": [
    "#select query---->\n",
    "q4 = \"\"\"\n",
    "select distinct(year(date_ordered)) from orders;\n",
    "\"\"\"\n",
    "connection = create_db_connection(\"localhost\", \"root\", pw, db)\n",
    "result = read_query(connection, q4)\n",
    "for result in results:\n",
    "    print(values)"
   ]
  },
  {
   "cell_type": "code",
   "execution_count": 86,
   "id": "67901ee3-9048-4f2e-8c61-a90f391ecf52",
   "metadata": {},
   "outputs": [
    {
     "name": "stdout",
     "output_type": "stream",
     "text": [
      "MySQL database Connection Succcessfully\n",
      "[(101, 'Sahil', 'Laptop', datetime.date(2002, 12, 2), 2, 800.0, '8087977227'), (106, 'Disha', 'Headphone', datetime.date(2018, 8, 20), 10, 300.0, '7720130449'), (103, 'Soham', 'Tab', datetime.date(2019, 12, 25), 5, 50.0, '8976123465'), (105, 'Mansi', 'TV', datetime.date(2019, 5, 30), 6, 48.0, '8865316698'), (104, 'Ninadh', 'Phone', datetime.date(2018, 7, 14), 7, 30.0, '7368145099'), (102, 'Jayesh', 'Book', datetime.date(2019, 2, 10), 10, 12.0, '8369489124')]\n",
      "[(101, 'Sahil', 'Laptop', datetime.date(2002, 12, 2), 2, 800.0, '8087977227'), (106, 'Disha', 'Headphone', datetime.date(2018, 8, 20), 10, 300.0, '7720130449'), (103, 'Soham', 'Tab', datetime.date(2019, 12, 25), 5, 50.0, '8976123465'), (105, 'Mansi', 'TV', datetime.date(2019, 5, 30), 6, 48.0, '8865316698'), (104, 'Ninadh', 'Phone', datetime.date(2018, 7, 14), 7, 30.0, '7368145099'), (102, 'Jayesh', 'Book', datetime.date(2019, 2, 10), 10, 12.0, '8369489124')]\n",
      "[(101, 'Sahil', 'Laptop', datetime.date(2002, 12, 2), 2, 800.0, '8087977227'), (106, 'Disha', 'Headphone', datetime.date(2018, 8, 20), 10, 300.0, '7720130449'), (103, 'Soham', 'Tab', datetime.date(2019, 12, 25), 5, 50.0, '8976123465'), (105, 'Mansi', 'TV', datetime.date(2019, 5, 30), 6, 48.0, '8865316698'), (104, 'Ninadh', 'Phone', datetime.date(2018, 7, 14), 7, 30.0, '7368145099'), (102, 'Jayesh', 'Book', datetime.date(2019, 2, 10), 10, 12.0, '8369489124')]\n",
      "[(101, 'Sahil', 'Laptop', datetime.date(2002, 12, 2), 2, 800.0, '8087977227'), (106, 'Disha', 'Headphone', datetime.date(2018, 8, 20), 10, 300.0, '7720130449'), (103, 'Soham', 'Tab', datetime.date(2019, 12, 25), 5, 50.0, '8976123465'), (105, 'Mansi', 'TV', datetime.date(2019, 5, 30), 6, 48.0, '8865316698'), (104, 'Ninadh', 'Phone', datetime.date(2018, 7, 14), 7, 30.0, '7368145099'), (102, 'Jayesh', 'Book', datetime.date(2019, 2, 10), 10, 12.0, '8369489124')]\n",
      "[(101, 'Sahil', 'Laptop', datetime.date(2002, 12, 2), 2, 800.0, '8087977227'), (106, 'Disha', 'Headphone', datetime.date(2018, 8, 20), 10, 300.0, '7720130449'), (103, 'Soham', 'Tab', datetime.date(2019, 12, 25), 5, 50.0, '8976123465'), (105, 'Mansi', 'TV', datetime.date(2019, 5, 30), 6, 48.0, '8865316698'), (104, 'Ninadh', 'Phone', datetime.date(2018, 7, 14), 7, 30.0, '7368145099'), (102, 'Jayesh', 'Book', datetime.date(2019, 2, 10), 10, 12.0, '8369489124')]\n",
      "[(101, 'Sahil', 'Laptop', datetime.date(2002, 12, 2), 2, 800.0, '8087977227'), (106, 'Disha', 'Headphone', datetime.date(2018, 8, 20), 10, 300.0, '7720130449'), (103, 'Soham', 'Tab', datetime.date(2019, 12, 25), 5, 50.0, '8976123465'), (105, 'Mansi', 'TV', datetime.date(2019, 5, 30), 6, 48.0, '8865316698'), (104, 'Ninadh', 'Phone', datetime.date(2018, 7, 14), 7, 30.0, '7368145099'), (102, 'Jayesh', 'Book', datetime.date(2019, 2, 10), 10, 12.0, '8369489124')]\n",
      "[(101, 'Sahil', 'Laptop', datetime.date(2002, 12, 2), 2, 800.0, '8087977227'), (106, 'Disha', 'Headphone', datetime.date(2018, 8, 20), 10, 300.0, '7720130449'), (103, 'Soham', 'Tab', datetime.date(2019, 12, 25), 5, 50.0, '8976123465'), (105, 'Mansi', 'TV', datetime.date(2019, 5, 30), 6, 48.0, '8865316698'), (104, 'Ninadh', 'Phone', datetime.date(2018, 7, 14), 7, 30.0, '7368145099'), (102, 'Jayesh', 'Book', datetime.date(2019, 2, 10), 10, 12.0, '8369489124')]\n"
     ]
    }
   ],
   "source": [
    "#select query---->\n",
    "q5 = \"\"\"\n",
    "select * from orders where date_ordered < '2018-12-31';\n",
    "\"\"\"\n",
    "connection = create_db_connection(\"localhost\", \"root\", pw, db)\n",
    "result = read_query(connection, q5)\n",
    "for result in results:\n",
    "    print(values)"
   ]
  },
  {
   "cell_type": "code",
   "execution_count": 87,
   "id": "15e67aae-3c2e-41d1-985d-6fc537f90ae7",
   "metadata": {},
   "outputs": [
    {
     "name": "stdout",
     "output_type": "stream",
     "text": [
      "MySQL database Connection Succcessfully\n",
      "[(101, 'Sahil', 'Laptop', datetime.date(2002, 12, 2), 2, 800.0, '8087977227'), (106, 'Disha', 'Headphone', datetime.date(2018, 8, 20), 10, 300.0, '7720130449'), (103, 'Soham', 'Tab', datetime.date(2019, 12, 25), 5, 50.0, '8976123465'), (105, 'Mansi', 'TV', datetime.date(2019, 5, 30), 6, 48.0, '8865316698'), (104, 'Ninadh', 'Phone', datetime.date(2018, 7, 14), 7, 30.0, '7368145099'), (102, 'Jayesh', 'Book', datetime.date(2019, 2, 10), 10, 12.0, '8369489124')]\n",
      "[(101, 'Sahil', 'Laptop', datetime.date(2002, 12, 2), 2, 800.0, '8087977227'), (106, 'Disha', 'Headphone', datetime.date(2018, 8, 20), 10, 300.0, '7720130449'), (103, 'Soham', 'Tab', datetime.date(2019, 12, 25), 5, 50.0, '8976123465'), (105, 'Mansi', 'TV', datetime.date(2019, 5, 30), 6, 48.0, '8865316698'), (104, 'Ninadh', 'Phone', datetime.date(2018, 7, 14), 7, 30.0, '7368145099'), (102, 'Jayesh', 'Book', datetime.date(2019, 2, 10), 10, 12.0, '8369489124')]\n",
      "[(101, 'Sahil', 'Laptop', datetime.date(2002, 12, 2), 2, 800.0, '8087977227'), (106, 'Disha', 'Headphone', datetime.date(2018, 8, 20), 10, 300.0, '7720130449'), (103, 'Soham', 'Tab', datetime.date(2019, 12, 25), 5, 50.0, '8976123465'), (105, 'Mansi', 'TV', datetime.date(2019, 5, 30), 6, 48.0, '8865316698'), (104, 'Ninadh', 'Phone', datetime.date(2018, 7, 14), 7, 30.0, '7368145099'), (102, 'Jayesh', 'Book', datetime.date(2019, 2, 10), 10, 12.0, '8369489124')]\n",
      "[(101, 'Sahil', 'Laptop', datetime.date(2002, 12, 2), 2, 800.0, '8087977227'), (106, 'Disha', 'Headphone', datetime.date(2018, 8, 20), 10, 300.0, '7720130449'), (103, 'Soham', 'Tab', datetime.date(2019, 12, 25), 5, 50.0, '8976123465'), (105, 'Mansi', 'TV', datetime.date(2019, 5, 30), 6, 48.0, '8865316698'), (104, 'Ninadh', 'Phone', datetime.date(2018, 7, 14), 7, 30.0, '7368145099'), (102, 'Jayesh', 'Book', datetime.date(2019, 2, 10), 10, 12.0, '8369489124')]\n",
      "[(101, 'Sahil', 'Laptop', datetime.date(2002, 12, 2), 2, 800.0, '8087977227'), (106, 'Disha', 'Headphone', datetime.date(2018, 8, 20), 10, 300.0, '7720130449'), (103, 'Soham', 'Tab', datetime.date(2019, 12, 25), 5, 50.0, '8976123465'), (105, 'Mansi', 'TV', datetime.date(2019, 5, 30), 6, 48.0, '8865316698'), (104, 'Ninadh', 'Phone', datetime.date(2018, 7, 14), 7, 30.0, '7368145099'), (102, 'Jayesh', 'Book', datetime.date(2019, 2, 10), 10, 12.0, '8369489124')]\n",
      "[(101, 'Sahil', 'Laptop', datetime.date(2002, 12, 2), 2, 800.0, '8087977227'), (106, 'Disha', 'Headphone', datetime.date(2018, 8, 20), 10, 300.0, '7720130449'), (103, 'Soham', 'Tab', datetime.date(2019, 12, 25), 5, 50.0, '8976123465'), (105, 'Mansi', 'TV', datetime.date(2019, 5, 30), 6, 48.0, '8865316698'), (104, 'Ninadh', 'Phone', datetime.date(2018, 7, 14), 7, 30.0, '7368145099'), (102, 'Jayesh', 'Book', datetime.date(2019, 2, 10), 10, 12.0, '8369489124')]\n",
      "[(101, 'Sahil', 'Laptop', datetime.date(2002, 12, 2), 2, 800.0, '8087977227'), (106, 'Disha', 'Headphone', datetime.date(2018, 8, 20), 10, 300.0, '7720130449'), (103, 'Soham', 'Tab', datetime.date(2019, 12, 25), 5, 50.0, '8976123465'), (105, 'Mansi', 'TV', datetime.date(2019, 5, 30), 6, 48.0, '8865316698'), (104, 'Ninadh', 'Phone', datetime.date(2018, 7, 14), 7, 30.0, '7368145099'), (102, 'Jayesh', 'Book', datetime.date(2019, 2, 10), 10, 12.0, '8369489124')]\n"
     ]
    }
   ],
   "source": [
    "#select query---->\n",
    "q6 = \"\"\"\n",
    "select * from orders where date_ordered > '2018-12-31';\n",
    "\"\"\"\n",
    "connection = create_db_connection(\"localhost\", \"root\", pw, db)\n",
    "result = read_query(connection, q6)\n",
    "for result in results:\n",
    "    print(values)"
   ]
  },
  {
   "cell_type": "code",
   "execution_count": 88,
   "id": "84bf6e46-e364-420f-ae16-f45cc9f6b873",
   "metadata": {},
   "outputs": [
    {
     "name": "stdout",
     "output_type": "stream",
     "text": [
      "MySQL database Connection Succcessfully\n",
      "[(101, 'Sahil', 'Laptop', datetime.date(2002, 12, 2), 2, 800.0, '8087977227'), (106, 'Disha', 'Headphone', datetime.date(2018, 8, 20), 10, 300.0, '7720130449'), (103, 'Soham', 'Tab', datetime.date(2019, 12, 25), 5, 50.0, '8976123465'), (105, 'Mansi', 'TV', datetime.date(2019, 5, 30), 6, 48.0, '8865316698'), (104, 'Ninadh', 'Phone', datetime.date(2018, 7, 14), 7, 30.0, '7368145099'), (102, 'Jayesh', 'Book', datetime.date(2019, 2, 10), 10, 12.0, '8369489124')]\n",
      "[(101, 'Sahil', 'Laptop', datetime.date(2002, 12, 2), 2, 800.0, '8087977227'), (106, 'Disha', 'Headphone', datetime.date(2018, 8, 20), 10, 300.0, '7720130449'), (103, 'Soham', 'Tab', datetime.date(2019, 12, 25), 5, 50.0, '8976123465'), (105, 'Mansi', 'TV', datetime.date(2019, 5, 30), 6, 48.0, '8865316698'), (104, 'Ninadh', 'Phone', datetime.date(2018, 7, 14), 7, 30.0, '7368145099'), (102, 'Jayesh', 'Book', datetime.date(2019, 2, 10), 10, 12.0, '8369489124')]\n",
      "[(101, 'Sahil', 'Laptop', datetime.date(2002, 12, 2), 2, 800.0, '8087977227'), (106, 'Disha', 'Headphone', datetime.date(2018, 8, 20), 10, 300.0, '7720130449'), (103, 'Soham', 'Tab', datetime.date(2019, 12, 25), 5, 50.0, '8976123465'), (105, 'Mansi', 'TV', datetime.date(2019, 5, 30), 6, 48.0, '8865316698'), (104, 'Ninadh', 'Phone', datetime.date(2018, 7, 14), 7, 30.0, '7368145099'), (102, 'Jayesh', 'Book', datetime.date(2019, 2, 10), 10, 12.0, '8369489124')]\n",
      "[(101, 'Sahil', 'Laptop', datetime.date(2002, 12, 2), 2, 800.0, '8087977227'), (106, 'Disha', 'Headphone', datetime.date(2018, 8, 20), 10, 300.0, '7720130449'), (103, 'Soham', 'Tab', datetime.date(2019, 12, 25), 5, 50.0, '8976123465'), (105, 'Mansi', 'TV', datetime.date(2019, 5, 30), 6, 48.0, '8865316698'), (104, 'Ninadh', 'Phone', datetime.date(2018, 7, 14), 7, 30.0, '7368145099'), (102, 'Jayesh', 'Book', datetime.date(2019, 2, 10), 10, 12.0, '8369489124')]\n",
      "[(101, 'Sahil', 'Laptop', datetime.date(2002, 12, 2), 2, 800.0, '8087977227'), (106, 'Disha', 'Headphone', datetime.date(2018, 8, 20), 10, 300.0, '7720130449'), (103, 'Soham', 'Tab', datetime.date(2019, 12, 25), 5, 50.0, '8976123465'), (105, 'Mansi', 'TV', datetime.date(2019, 5, 30), 6, 48.0, '8865316698'), (104, 'Ninadh', 'Phone', datetime.date(2018, 7, 14), 7, 30.0, '7368145099'), (102, 'Jayesh', 'Book', datetime.date(2019, 2, 10), 10, 12.0, '8369489124')]\n",
      "[(101, 'Sahil', 'Laptop', datetime.date(2002, 12, 2), 2, 800.0, '8087977227'), (106, 'Disha', 'Headphone', datetime.date(2018, 8, 20), 10, 300.0, '7720130449'), (103, 'Soham', 'Tab', datetime.date(2019, 12, 25), 5, 50.0, '8976123465'), (105, 'Mansi', 'TV', datetime.date(2019, 5, 30), 6, 48.0, '8865316698'), (104, 'Ninadh', 'Phone', datetime.date(2018, 7, 14), 7, 30.0, '7368145099'), (102, 'Jayesh', 'Book', datetime.date(2019, 2, 10), 10, 12.0, '8369489124')]\n",
      "[(101, 'Sahil', 'Laptop', datetime.date(2002, 12, 2), 2, 800.0, '8087977227'), (106, 'Disha', 'Headphone', datetime.date(2018, 8, 20), 10, 300.0, '7720130449'), (103, 'Soham', 'Tab', datetime.date(2019, 12, 25), 5, 50.0, '8976123465'), (105, 'Mansi', 'TV', datetime.date(2019, 5, 30), 6, 48.0, '8865316698'), (104, 'Ninadh', 'Phone', datetime.date(2018, 7, 14), 7, 30.0, '7368145099'), (102, 'Jayesh', 'Book', datetime.date(2019, 2, 10), 10, 12.0, '8369489124')]\n"
     ]
    }
   ],
   "source": [
    "#select query---->\n",
    "q7 = \"\"\"\n",
    "select * from orders order by unit_price desc;\n",
    "\"\"\"\n",
    "connection = create_db_connection(\"localhost\", \"root\", pw, db)\n",
    "result = read_query(connection, q7)\n",
    "for result in results:\n",
    "    print(values)"
   ]
  },
  {
   "cell_type": "code",
   "execution_count": 106,
   "id": "abf9ce98-461b-4f3e-bb22-1d351e92771f",
   "metadata": {},
   "outputs": [
    {
     "data": {
      "text/html": [
       "<div>\n",
       "<style scoped>\n",
       "    .dataframe tbody tr th:only-of-type {\n",
       "        vertical-align: middle;\n",
       "    }\n",
       "\n",
       "    .dataframe tbody tr th {\n",
       "        vertical-align: top;\n",
       "    }\n",
       "\n",
       "    .dataframe thead th {\n",
       "        text-align: right;\n",
       "    }\n",
       "</style>\n",
       "<table border=\"1\" class=\"dataframe\">\n",
       "  <thead>\n",
       "    <tr style=\"text-align: right;\">\n",
       "      <th></th>\n",
       "      <th>order_id</th>\n",
       "      <th>customer_name</th>\n",
       "      <th>product_name</th>\n",
       "      <th>date_ordered</th>\n",
       "      <th>unit_price</th>\n",
       "      <th>phone_number</th>\n",
       "    </tr>\n",
       "  </thead>\n",
       "  <tbody>\n",
       "    <tr>\n",
       "      <th>0</th>\n",
       "      <td>(101, Sahil, Laptop, 2002-12-02, 2, 800.0, 808...</td>\n",
       "      <td>(106, Disha, Headphone, 2018-08-20, 10, 300.0,...</td>\n",
       "      <td>(103, Soham, Tab, 2019-12-25, 5, 50.0, 8976123...</td>\n",
       "      <td>(105, Mansi, TV, 2019-05-30, 6, 48.0, 8865316698)</td>\n",
       "      <td>(104, Ninadh, Phone, 2018-07-14, 7, 30.0, 7368...</td>\n",
       "      <td>(102, Jayesh, Book, 2019-02-10, 10, 12.0, 8369...</td>\n",
       "    </tr>\n",
       "    <tr>\n",
       "      <th>1</th>\n",
       "      <td>(101, Sahil, Laptop, 2002-12-02, 2, 800.0, 808...</td>\n",
       "      <td>(106, Disha, Headphone, 2018-08-20, 10, 300.0,...</td>\n",
       "      <td>(103, Soham, Tab, 2019-12-25, 5, 50.0, 8976123...</td>\n",
       "      <td>(105, Mansi, TV, 2019-05-30, 6, 48.0, 8865316698)</td>\n",
       "      <td>(104, Ninadh, Phone, 2018-07-14, 7, 30.0, 7368...</td>\n",
       "      <td>(102, Jayesh, Book, 2019-02-10, 10, 12.0, 8369...</td>\n",
       "    </tr>\n",
       "    <tr>\n",
       "      <th>2</th>\n",
       "      <td>(101, Sahil, Laptop, 2002-12-02, 2, 800.0, 808...</td>\n",
       "      <td>(106, Disha, Headphone, 2018-08-20, 10, 300.0,...</td>\n",
       "      <td>(103, Soham, Tab, 2019-12-25, 5, 50.0, 8976123...</td>\n",
       "      <td>(105, Mansi, TV, 2019-05-30, 6, 48.0, 8865316698)</td>\n",
       "      <td>(104, Ninadh, Phone, 2018-07-14, 7, 30.0, 7368...</td>\n",
       "      <td>(102, Jayesh, Book, 2019-02-10, 10, 12.0, 8369...</td>\n",
       "    </tr>\n",
       "    <tr>\n",
       "      <th>3</th>\n",
       "      <td>(101, Sahil, Laptop, 2002-12-02, 2, 800.0, 808...</td>\n",
       "      <td>(106, Disha, Headphone, 2018-08-20, 10, 300.0,...</td>\n",
       "      <td>(103, Soham, Tab, 2019-12-25, 5, 50.0, 8976123...</td>\n",
       "      <td>(105, Mansi, TV, 2019-05-30, 6, 48.0, 8865316698)</td>\n",
       "      <td>(104, Ninadh, Phone, 2018-07-14, 7, 30.0, 7368...</td>\n",
       "      <td>(102, Jayesh, Book, 2019-02-10, 10, 12.0, 8369...</td>\n",
       "    </tr>\n",
       "    <tr>\n",
       "      <th>4</th>\n",
       "      <td>(101, Sahil, Laptop, 2002-12-02, 2, 800.0, 808...</td>\n",
       "      <td>(106, Disha, Headphone, 2018-08-20, 10, 300.0,...</td>\n",
       "      <td>(103, Soham, Tab, 2019-12-25, 5, 50.0, 8976123...</td>\n",
       "      <td>(105, Mansi, TV, 2019-05-30, 6, 48.0, 8865316698)</td>\n",
       "      <td>(104, Ninadh, Phone, 2018-07-14, 7, 30.0, 7368...</td>\n",
       "      <td>(102, Jayesh, Book, 2019-02-10, 10, 12.0, 8369...</td>\n",
       "    </tr>\n",
       "    <tr>\n",
       "      <th>5</th>\n",
       "      <td>(101, Sahil, Laptop, 2002-12-02, 2, 800.0, 808...</td>\n",
       "      <td>(106, Disha, Headphone, 2018-08-20, 10, 300.0,...</td>\n",
       "      <td>(103, Soham, Tab, 2019-12-25, 5, 50.0, 8976123...</td>\n",
       "      <td>(105, Mansi, TV, 2019-05-30, 6, 48.0, 8865316698)</td>\n",
       "      <td>(104, Ninadh, Phone, 2018-07-14, 7, 30.0, 7368...</td>\n",
       "      <td>(102, Jayesh, Book, 2019-02-10, 10, 12.0, 8369...</td>\n",
       "    </tr>\n",
       "    <tr>\n",
       "      <th>6</th>\n",
       "      <td>(101, Sahil, Laptop, 2002-12-02, 2, 800.0, 808...</td>\n",
       "      <td>(106, Disha, Headphone, 2018-08-20, 10, 300.0,...</td>\n",
       "      <td>(103, Soham, Tab, 2019-12-25, 5, 50.0, 8976123...</td>\n",
       "      <td>(105, Mansi, TV, 2019-05-30, 6, 48.0, 8865316698)</td>\n",
       "      <td>(104, Ninadh, Phone, 2018-07-14, 7, 30.0, 7368...</td>\n",
       "      <td>(102, Jayesh, Book, 2019-02-10, 10, 12.0, 8369...</td>\n",
       "    </tr>\n",
       "  </tbody>\n",
       "</table>\n",
       "</div>"
      ],
      "text/plain": [
       "                                            order_id  \\\n",
       "0  (101, Sahil, Laptop, 2002-12-02, 2, 800.0, 808...   \n",
       "1  (101, Sahil, Laptop, 2002-12-02, 2, 800.0, 808...   \n",
       "2  (101, Sahil, Laptop, 2002-12-02, 2, 800.0, 808...   \n",
       "3  (101, Sahil, Laptop, 2002-12-02, 2, 800.0, 808...   \n",
       "4  (101, Sahil, Laptop, 2002-12-02, 2, 800.0, 808...   \n",
       "5  (101, Sahil, Laptop, 2002-12-02, 2, 800.0, 808...   \n",
       "6  (101, Sahil, Laptop, 2002-12-02, 2, 800.0, 808...   \n",
       "\n",
       "                                       customer_name  \\\n",
       "0  (106, Disha, Headphone, 2018-08-20, 10, 300.0,...   \n",
       "1  (106, Disha, Headphone, 2018-08-20, 10, 300.0,...   \n",
       "2  (106, Disha, Headphone, 2018-08-20, 10, 300.0,...   \n",
       "3  (106, Disha, Headphone, 2018-08-20, 10, 300.0,...   \n",
       "4  (106, Disha, Headphone, 2018-08-20, 10, 300.0,...   \n",
       "5  (106, Disha, Headphone, 2018-08-20, 10, 300.0,...   \n",
       "6  (106, Disha, Headphone, 2018-08-20, 10, 300.0,...   \n",
       "\n",
       "                                        product_name  \\\n",
       "0  (103, Soham, Tab, 2019-12-25, 5, 50.0, 8976123...   \n",
       "1  (103, Soham, Tab, 2019-12-25, 5, 50.0, 8976123...   \n",
       "2  (103, Soham, Tab, 2019-12-25, 5, 50.0, 8976123...   \n",
       "3  (103, Soham, Tab, 2019-12-25, 5, 50.0, 8976123...   \n",
       "4  (103, Soham, Tab, 2019-12-25, 5, 50.0, 8976123...   \n",
       "5  (103, Soham, Tab, 2019-12-25, 5, 50.0, 8976123...   \n",
       "6  (103, Soham, Tab, 2019-12-25, 5, 50.0, 8976123...   \n",
       "\n",
       "                                        date_ordered  \\\n",
       "0  (105, Mansi, TV, 2019-05-30, 6, 48.0, 8865316698)   \n",
       "1  (105, Mansi, TV, 2019-05-30, 6, 48.0, 8865316698)   \n",
       "2  (105, Mansi, TV, 2019-05-30, 6, 48.0, 8865316698)   \n",
       "3  (105, Mansi, TV, 2019-05-30, 6, 48.0, 8865316698)   \n",
       "4  (105, Mansi, TV, 2019-05-30, 6, 48.0, 8865316698)   \n",
       "5  (105, Mansi, TV, 2019-05-30, 6, 48.0, 8865316698)   \n",
       "6  (105, Mansi, TV, 2019-05-30, 6, 48.0, 8865316698)   \n",
       "\n",
       "                                          unit_price  \\\n",
       "0  (104, Ninadh, Phone, 2018-07-14, 7, 30.0, 7368...   \n",
       "1  (104, Ninadh, Phone, 2018-07-14, 7, 30.0, 7368...   \n",
       "2  (104, Ninadh, Phone, 2018-07-14, 7, 30.0, 7368...   \n",
       "3  (104, Ninadh, Phone, 2018-07-14, 7, 30.0, 7368...   \n",
       "4  (104, Ninadh, Phone, 2018-07-14, 7, 30.0, 7368...   \n",
       "5  (104, Ninadh, Phone, 2018-07-14, 7, 30.0, 7368...   \n",
       "6  (104, Ninadh, Phone, 2018-07-14, 7, 30.0, 7368...   \n",
       "\n",
       "                                        phone_number  \n",
       "0  (102, Jayesh, Book, 2019-02-10, 10, 12.0, 8369...  \n",
       "1  (102, Jayesh, Book, 2019-02-10, 10, 12.0, 8369...  \n",
       "2  (102, Jayesh, Book, 2019-02-10, 10, 12.0, 8369...  \n",
       "3  (102, Jayesh, Book, 2019-02-10, 10, 12.0, 8369...  \n",
       "4  (102, Jayesh, Book, 2019-02-10, 10, 12.0, 8369...  \n",
       "5  (102, Jayesh, Book, 2019-02-10, 10, 12.0, 8369...  \n",
       "6  (102, Jayesh, Book, 2019-02-10, 10, 12.0, 8369...  "
      ]
     },
     "metadata": {},
     "output_type": "display_data"
    }
   ],
   "source": [
    "from_db =[]\n",
    "for rsult in results:\n",
    "    result = list(result)\n",
    "    from_db.append(values)\n",
    "columns = [\"order_id\",\"customer_name\",\"product_name\",\"date_ordered\",\"unit_price\",\"phone_number\"]\n",
    "df = pd.DataFrame(from_db, columns = columns)\n",
    "display(df)"
   ]
  },
  {
   "cell_type": "code",
   "execution_count": null,
   "id": "2f44161c-780a-4bea-b8ad-db57db6d1082",
   "metadata": {},
   "outputs": [],
   "source": []
  },
  {
   "cell_type": "code",
   "execution_count": null,
   "id": "4bb46d82-26c9-47b0-a3ef-b5b5cba9da94",
   "metadata": {},
   "outputs": [],
   "source": []
  },
  {
   "cell_type": "code",
   "execution_count": null,
   "id": "8db3a3a0-4ba7-4367-a494-5a8d98b0e7d4",
   "metadata": {},
   "outputs": [],
   "source": []
  },
  {
   "cell_type": "code",
   "execution_count": null,
   "id": "6030ad4e-ce19-493c-bcb3-ef14dd9240fc",
   "metadata": {},
   "outputs": [],
   "source": []
  }
 ],
 "metadata": {
  "kernelspec": {
   "display_name": "Python 3 (ipykernel)",
   "language": "python",
   "name": "python3"
  },
  "language_info": {
   "codemirror_mode": {
    "name": "ipython",
    "version": 3
   },
   "file_extension": ".py",
   "mimetype": "text/x-python",
   "name": "python",
   "nbconvert_exporter": "python",
   "pygments_lexer": "ipython3",
   "version": "3.11.5"
  }
 },
 "nbformat": 4,
 "nbformat_minor": 5
}
